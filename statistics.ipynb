{
 "cells": [
  {
   "cell_type": "code",
   "execution_count": 3,
   "metadata": {},
   "outputs": [
    {
     "data": {
      "text/plain": [
       "(13, 13)"
      ]
     },
     "execution_count": 3,
     "metadata": {},
     "output_type": "execute_result"
    }
   ],
   "source": [
    "# sum\n",
    "def Sum(x):\n",
    "    i=0;y=0\n",
    "    while i<len(x):\n",
    "        y+=x[i]\n",
    "        i=i+1\n",
    "    return y\n",
    "\n",
    "xx=[3,1,5,4]\n",
    "Sum(xx), sum(xx)"
   ]
  },
  {
   "cell_type": "code",
   "execution_count": 7,
   "metadata": {},
   "outputs": [
    {
     "data": {
      "text/plain": [
       "(3.25, 3.25)"
      ]
     },
     "execution_count": 7,
     "metadata": {},
     "output_type": "execute_result"
    }
   ],
   "source": [
    "# mean\n",
    "import numpy as np\n",
    "def Mean(x):\n",
    "    return Sum(x)/len(x)\n",
    "\n",
    "Mean(xx), np.mean(xx)"
   ]
  },
  {
   "cell_type": "code",
   "execution_count": 12,
   "metadata": {},
   "outputs": [
    {
     "data": {
      "text/plain": [
       "(1, 1)"
      ]
     },
     "execution_count": 12,
     "metadata": {},
     "output_type": "execute_result"
    }
   ],
   "source": [
    "# Minimum\n",
    "def Min(x):\n",
    "    x.sort()\n",
    "    return x[0]\n",
    "\n",
    "Min(xx), np.min(xx)"
   ]
  },
  {
   "cell_type": "code",
   "execution_count": 13,
   "metadata": {},
   "outputs": [
    {
     "data": {
      "text/plain": [
       "(5, 5)"
      ]
     },
     "execution_count": 13,
     "metadata": {},
     "output_type": "execute_result"
    }
   ],
   "source": [
    "# Maximum\n",
    "def Max(x):\n",
    "    x.sort()\n",
    "    return x[len(x)-1]\n",
    "\n",
    "Max(xx),np.max(xx)"
   ]
  },
  {
   "cell_type": "code",
   "execution_count": 34,
   "metadata": {},
   "outputs": [
    {
     "data": {
      "text/plain": [
       "(3.5, 3.5, 4, 4.0)"
      ]
     },
     "execution_count": 34,
     "metadata": {},
     "output_type": "execute_result"
    }
   ],
   "source": [
    "# Median\n",
    "def Median(x):\n",
    "    x.sort()\n",
    "    if len(x)%2==1:  # if length is impair\n",
    "        return x[int((len(x)-1)/2)]\n",
    "    if len(x)%2==0:\n",
    "        j=int(len(x)/2)-1   # remove 1, because index start with 0\n",
    "        return (x[j]+x[j+1])/2\n",
    "\n",
    "Median(xx),np.median(xx),Median(xx[1:]),np.median(xx[1:]) "
   ]
  },
  {
   "cell_type": "code",
   "execution_count": 44,
   "metadata": {},
   "outputs": [
    {
     "data": {
      "text/plain": [
       "(1.479019945774904, 1.479019945774904)"
      ]
     },
     "execution_count": 44,
     "metadata": {},
     "output_type": "execute_result"
    }
   ],
   "source": [
    "# standard deviation\n",
    "def Stand(x):\n",
    "    import math\n",
    "    numerator=0\n",
    "    i=0\n",
    "    while i<len(x):\n",
    "        numerator+=(x[i]-Mean(x))**2\n",
    "        i=i+1\n",
    "    return math.sqrt(numerator/len(x))\n",
    "\n",
    "Stand(xx),np.std(xx)"
   ]
  },
  {
   "cell_type": "code",
   "execution_count": 99,
   "metadata": {},
   "outputs": [
    {
     "data": {
      "text/plain": [
       "{1: 3, 3: 3, 4: 4, 5: 1, 6: 2, 8: 2}"
      ]
     },
     "execution_count": 99,
     "metadata": {},
     "output_type": "execute_result"
    }
   ],
   "source": [
    "# Frequency of values \n",
    "xx=[1, 3, 4, 5, 4, 1, 6, 8, 4, 3, 4, 1, 6, 8, 3]\n",
    "def Freq(x):\n",
    "    import pandas as pd\n",
    "    yset=list(set(x))  # sort the values, to provide a sort result of unique values\n",
    "    yset.sort()\n",
    "    y=list()\n",
    "    i=0\n",
    "    while i<len(yset):\n",
    "        j=0\n",
    "        z=0             # to count the frequencies for each unique element of x\n",
    "        while j<len(x):\n",
    "            if x[j]==yset[i]:\n",
    "                z+=1\n",
    "            j=j+1\n",
    "        y.append(z)\n",
    "        i=i+1\n",
    "    return dict(zip(yset,y))\n",
    "Freq(xx)\n"
   ]
  },
  {
   "cell_type": "code",
   "execution_count": 98,
   "metadata": {},
   "outputs": [
    {
     "data": {
      "text/plain": [
       "{1: 0.2,\n",
       " 3: 0.2,\n",
       " 4: 0.26666666666666666,\n",
       " 5: 0.06666666666666667,\n",
       " 6: 0.13333333333333333,\n",
       " 8: 0.13333333333333333}"
      ]
     },
     "execution_count": 98,
     "metadata": {},
     "output_type": "execute_result"
    }
   ],
   "source": [
    "# proportion\n",
    "def Prop(x):\n",
    "    f=Freq(x)\n",
    "    prop=[j/Sum([i for i in f.values()]) for j in f.values()]\n",
    "\n",
    "    return dict(zip([i for i,j in f.items()],prop))\n",
    "\n",
    "Prop(xx)"
   ]
  },
  {
   "cell_type": "code",
   "execution_count": 113,
   "metadata": {},
   "outputs": [
    {
     "data": {
      "text/plain": [
       "0.26666666666666666"
      ]
     },
     "execution_count": 113,
     "metadata": {},
     "output_type": "execute_result"
    }
   ],
   "source": [
    "4/15"
   ]
  }
 ],
 "metadata": {
  "kernelspec": {
   "display_name": "Python 3",
   "language": "python",
   "name": "python3"
  },
  "language_info": {
   "codemirror_mode": {
    "name": "ipython",
    "version": 3
   },
   "file_extension": ".py",
   "mimetype": "text/x-python",
   "name": "python",
   "nbconvert_exporter": "python",
   "pygments_lexer": "ipython3",
   "version": "3.9.13"
  }
 },
 "nbformat": 4,
 "nbformat_minor": 2
}
