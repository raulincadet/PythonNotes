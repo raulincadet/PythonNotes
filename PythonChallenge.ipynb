{
 "cells": [
  {
   "cell_type": "markdown",
   "metadata": {},
   "source": [
    "# Python Code for Some Challenge Exercises"
   ]
  },
  {
   "cell_type": "markdown",
   "metadata": {},
   "source": [
    "The following functions present my python code to resolve some challenge exercices. Most of the exercices are found in hackerrank platform. However, the solutions are mine. "
   ]
  },
  {
   "cell_type": "code",
   "execution_count": 1,
   "metadata": {},
   "outputs": [
    {
     "data": {
      "text/plain": [
       "'Mdwwkhz lv kdssb wr ilqg klv fdw.'"
      ]
     },
     "execution_count": 1,
     "metadata": {},
     "output_type": "execute_result"
    }
   ],
   "source": [
    "# Caesar cipher to encrypt messages\n",
    "def ceasar(text,v):\n",
    "    # text=text.lower()\n",
    "    def shiftx(v):\n",
    "        import string\n",
    "        al=string.ascii_lowercase\n",
    "        s=al[v:len(al)+1]+al[0:v]\n",
    "        d={}\n",
    "        i=0\n",
    "        while i<len(al):\n",
    "            d[al[i]]=s[i]\n",
    "            i=i+1\n",
    "        return d\n",
    "    \n",
    "    i=0;y=list()\n",
    "    while i<len(text):\n",
    "        try:\n",
    "            y.append(shiftx(v)[text[i]])\n",
    "        except:\n",
    "            y.append(text[i])\n",
    "        i=i+1\n",
    "    return ''.join(y)\n",
    "ceasar('Matthew is happy to find his cat.',3) "
   ]
  },
  {
   "cell_type": "code",
   "execution_count": 391,
   "metadata": {},
   "outputs": [
    {
     "data": {
      "text/plain": [
       "[0, 1, 1, 2, 3, 5, 8, 13, 21, 34, 55, 89, 144]"
      ]
     },
     "execution_count": 391,
     "metadata": {},
     "output_type": "execute_result"
    }
   ],
   "source": [
    "# Fibonnaci series where each number is the sum of the two precedent numbers (Fn)\n",
    "def fibon(n):\n",
    "    y=[0,1]\n",
    "    while len(y)<n:\n",
    "        y.append(sum(y[-2::]))\n",
    "    return y\n",
    "fibon(13)\n"
   ]
  },
  {
   "cell_type": "code",
   "execution_count": 392,
   "metadata": {},
   "outputs": [
    {
     "data": {
      "text/plain": [
       "'--. . . -.- ... -....- ..-. --- .-. -....- --. . . -.- ...'"
      ]
     },
     "execution_count": 392,
     "metadata": {},
     "output_type": "execute_result"
    }
   ],
   "source": [
    "# Morse code encryption\n",
    "def morse_encrypt(text):\n",
    "    morse_dic= { 'A':'.-', 'B':'-...',\n",
    "                    'C':'-.-.', 'D':'-..', 'E':'.',\n",
    "                    'F':'..-.', 'G':'--.', 'H':'....',\n",
    "                    'I':'..', 'J':'.---', 'K':'-.-',\n",
    "                    'L':'.-..', 'M':'--', 'N':'-.',\n",
    "                    'O':'---', 'P':'.--.', 'Q':'--.-',\n",
    "                    'R':'.-.', 'S':'...', 'T':'-',\n",
    "                    'U':'..-', 'V':'...-', 'W':'.--',\n",
    "                    'X':'-..-', 'Y':'-.--', 'Z':'--..',\n",
    "                    '1':'.----', '2':'..---', '3':'...--',\n",
    "                    '4':'....-', '5':'.....', '6':'-....',\n",
    "                    '7':'--...', '8':'---..', '9':'----.',\n",
    "                    '0':'-----', ', ':'--..--', '.':'.-.-.-',\n",
    "                    '?':'..--..', '/':'-..-.', '-':'-....-',\n",
    "                    '(':'-.--.', ')':'-.--.-'}\n",
    "    text=text.upper()\n",
    "    # i=0\n",
    "    y=list()\n",
    "    for i in text:\n",
    "        try:\n",
    "            y.append(morse_dic[i])\n",
    "        except:\n",
    "            y.append(' ')\n",
    "    return ' '.join(y)\n",
    "\n",
    "morse_encrypt('GEEKS-FOR-GEEKS')\n",
    "    "
   ]
  },
  {
   "cell_type": "code",
   "execution_count": 393,
   "metadata": {},
   "outputs": [
    {
     "data": {
      "text/plain": [
       "0.302"
      ]
     },
     "execution_count": 393,
     "metadata": {},
     "output_type": "execute_result"
    }
   ],
   "source": [
    "# Function to calculate logarithms base 10\n",
    "# 10^2=100 ===> log 100 = 2\n",
    "# 10^3=1000 ==> log 1000 = 3\n",
    "# Find log 300\n",
    "def log(x,base):\n",
    "    # x=str(x)\n",
    "    import numpy as np\n",
    "    d={}\n",
    "    y=np.arange(0,100,0.001)\n",
    "    for i in y:\n",
    "        if round(base**i,1)==float(x):\n",
    "            d[str(round(base**i, 2))]=round(i,6)\n",
    "        i=i+1\n",
    "    return d[str(x)]\n",
    "log(2.0,base=10)"
   ]
  },
  {
   "cell_type": "code",
   "execution_count": 394,
   "metadata": {},
   "outputs": [
    {
     "data": {
      "text/plain": [
       "(1.587, 1.584962500721156, 1.0986122886681098)"
      ]
     },
     "execution_count": 394,
     "metadata": {},
     "output_type": "execute_result"
    }
   ],
   "source": [
    "import math\n",
    "z=3.0\n",
    "log(x=z,base=2),math.log2(z),math.log(z)\n"
   ]
  },
  {
   "cell_type": "code",
   "execution_count": 2,
   "metadata": {},
   "outputs": [
    {
     "name": "stdout",
     "output_type": "stream",
     "text": [
      "1\n",
      "2\n",
      "6\n",
      "24\n",
      "120\n",
      "720\n"
     ]
    }
   ],
   "source": [
    "# Calcul of n factorial (n!)\n",
    "# n! = n * (n-1) * (n-2)*...* 1\n",
    "def fact(x):\n",
    "    s=[i for i in range(1,x)]\n",
    "    i=0;y=x;z=list()\n",
    "    while i<len(s):\n",
    "        y*=s[i]\n",
    "        # z.append((i,s[i]))\n",
    "        i=i+1\n",
    "    return y\n",
    "\n",
    "for i in range(1,7):\n",
    "    print(fact(i))"
   ]
  },
  {
   "cell_type": "code",
   "execution_count": 3,
   "metadata": {},
   "outputs": [
    {
     "data": {
      "text/plain": [
       "2.7182818284590455"
      ]
     },
     "execution_count": 3,
     "metadata": {},
     "output_type": "execute_result"
    }
   ],
   "source": [
    "# calculate the value of exponential e\n",
    "# e=sommation from 0 to inf of 1/n!\n",
    "def e_val(h): # h is a great value\n",
    "    import math\n",
    "    i=0\n",
    "    y=0\n",
    "    while i<h:\n",
    "        # y+=1/fact(i)\n",
    "        y+=1/math.factorial(i)\n",
    "        i=i+1\n",
    "    return y\n",
    "\n",
    "e_val(10000)\n",
    "# 10000 ===> 1.7182818284590455\n",
    "             #2.7182818284590452353602874713527"
   ]
  },
  {
   "cell_type": "code",
   "execution_count": null,
   "metadata": {},
   "outputs": [],
   "source": []
  },
  {
   "cell_type": "code",
   "execution_count": null,
   "metadata": {},
   "outputs": [],
   "source": []
  },
  {
   "cell_type": "code",
   "execution_count": null,
   "metadata": {},
   "outputs": [],
   "source": [
    "# Find the number divisible by more number from 1 to x, where x>1\n",
    "def num_div(stop):\n",
    "    import operator\n",
    "    num=[i for i in range(0,stop)]\n",
    "    i=0;y=list()\n",
    "    while i<len(num):\n",
    "        j=1\n",
    "        while j<len(num):\n",
    "            if num[i]%num[j]==0:\n",
    "                y.append((num[i],num[j]))\n",
    "            else:\n",
    "                next\n",
    "            j=j+1\n",
    "        i=i+1\n",
    "    div_num=[i for i,j in y]\n",
    "    d={}\n",
    "    i=0\n",
    "    h=list()\n",
    "    while i<len(list(set(div_num))):\n",
    "        j=0\n",
    "        z=list()\n",
    "        while j<len(div_num):\n",
    "            if list(set(div_num))[i]== div_num[j]:\n",
    "                z.append(1)\n",
    "            j=j+1\n",
    "        # h.append((str(list(set(div_num))[i]),sum(z)))\n",
    "        d[str(list(set(div_num))[i])]=sum(z)\n",
    "        i=i+1\n",
    "            \n",
    "        \n",
    "\n",
    "    return d\n",
    "    \n",
    "\n",
    "hel=num_div(stop=50)\n",
    "hel"
   ]
  },
  {
   "cell_type": "code",
   "execution_count": null,
   "metadata": {},
   "outputs": [
    {
     "data": {
      "text/plain": [
       "{'0': 49,\n",
       " '48': 10,\n",
       " '36': 9,\n",
       " '24': 8,\n",
       " '42': 8,\n",
       " '40': 8,\n",
       " '30': 8,\n",
       " '12': 6,\n",
       " '28': 6,\n",
       " '20': 6,\n",
       " '18': 6,\n",
       " '32': 6,\n",
       " '45': 6,\n",
       " '44': 6,\n",
       " '16': 5,\n",
       " '39': 4,\n",
       " '22': 4,\n",
       " '46': 4,\n",
       " '27': 4,\n",
       " '26': 4,\n",
       " '33': 4,\n",
       " '34': 4,\n",
       " '21': 4,\n",
       " '38': 4,\n",
       " '35': 4,\n",
       " '6': 4,\n",
       " '8': 4,\n",
       " '10': 4,\n",
       " '14': 4,\n",
       " '15': 4,\n",
       " '25': 3,\n",
       " '9': 3,\n",
       " '4': 3,\n",
       " '49': 3,\n",
       " '23': 2,\n",
       " '19': 2,\n",
       " '17': 2,\n",
       " '37': 2,\n",
       " '13': 2,\n",
       " '11': 2,\n",
       " '29': 2,\n",
       " '41': 2,\n",
       " '7': 2,\n",
       " '43': 2,\n",
       " '5': 2,\n",
       " '3': 2,\n",
       " '47': 2,\n",
       " '2': 2,\n",
       " '31': 2,\n",
       " '1': 1}"
      ]
     },
     "execution_count": 387,
     "metadata": {},
     "output_type": "execute_result"
    }
   ],
   "source": [
    "def sort_dic(x):\n",
    "    import pandas as pd\n",
    "    dat=pd.DataFrame(data=[hel]).transpose()\n",
    "    dat.columns=['values']\n",
    "    dat=dat.sort_values('values',ascending=False)\n",
    "\n",
    "    i=0\n",
    "    d={}\n",
    "    while i<dat.shape[0]:\n",
    "        d[dat.index[i]]=dat['values'][i]\n",
    "        i=i+1\n",
    "    return d\n",
    "(sort_dic(hel))"
   ]
  },
  {
   "cell_type": "code",
   "execution_count": 409,
   "metadata": {},
   "outputs": [
    {
     "data": {
      "text/plain": [
       "[2, 3]"
      ]
     },
     "execution_count": 409,
     "metadata": {},
     "output_type": "execute_result"
    }
   ],
   "source": [
    "g=[1,2,3,4,5]\n",
    "g[1:3]"
   ]
  },
  {
   "cell_type": "code",
   "execution_count": 26,
   "metadata": {},
   "outputs": [
    {
     "data": {
      "text/plain": [
       "'19:05:45'"
      ]
     },
     "execution_count": 26,
     "metadata": {},
     "output_type": "execute_result"
    }
   ],
   "source": [
    "import math\n",
    "import os\n",
    "import random\n",
    "import re\n",
    "import sys\n",
    "\n",
    "#\n",
    "# Complete the 'timeConversion' function below.\n",
    "#\n",
    "# The function is expected to return a STRING.\n",
    "# The function accepts STRING s as parameter.\n",
    "#\n",
    "\n",
    "def timeConversion(s):\n",
    "\n",
    "    if s[8:10]=='PM':\n",
    "      \n",
    "        if int(s[0:2])==12:\n",
    "            s2=s[0:8]\n",
    "        if int(s[0:2])<12:\n",
    "            s1=str(12+int(s[0:2]))\n",
    "            s2=s1+s[2:8]\n",
    "\n",
    "    if s[8:10]=='AM':\n",
    "        s2=s[0:8]\n",
    "    return s2\n",
    "timeConversion('07:05:45PM')"
   ]
  },
  {
   "cell_type": "code",
   "execution_count": 182,
   "metadata": {},
   "outputs": [
    {
     "data": {
      "text/plain": [
       "[14, 10]"
      ]
     },
     "execution_count": 182,
     "metadata": {},
     "output_type": "execute_result"
    }
   ],
   "source": [
    "def breakingRecords(scores):\n",
    "    \n",
    "    if (min(scores) in range(0,(10**8)+1)) and (max(scores) in range(0,(10**8)+1)) and (len(scores) in range(1,(1000+1))):\n",
    "                    \n",
    "            mi=list();ma=list()\n",
    "            i=0\n",
    "            while i<len(scores):\n",
    "                mi.append(scores[i])\n",
    "                ma.append(scores[i])\n",
    "                i=i+1\n",
    "            Max=list();Min=list()\n",
    "            j=0\n",
    "            while j<len(mi):\n",
    "                \n",
    "                Max.append(max(ma[:j+1]))\n",
    "                Min.append(min(mi[:j+1]))\n",
    "                j=j+1\n",
    "    else:\n",
    "         pass\n",
    "            ########\n",
    "    def mc(x,f='min'): # to count break\n",
    "        if f=='min':\n",
    "            i=0\n",
    "            Mi=list()\n",
    "            while i<len(x):\n",
    "                if (len(set(x[:i+1]))==1):\n",
    "                    Mi.append(-1)\n",
    "                if (len(set(x[:i+1]))>1):\n",
    "                    if x[i]==min(x[:i+1]):\n",
    "                            Mi.append(x[i])\n",
    "                    else:\n",
    "                        Mi.append(-1)\n",
    "                i=i+1\n",
    "                Mi=[i for i in Mi if i!=-1]\n",
    "                res=len(set(Mi))\n",
    "                #####\n",
    "        if f=='max':\n",
    "            i=0\n",
    "            Ma=list()\n",
    "            while i<len(x):\n",
    "                if (len(set(x[:i+1]))==1):\n",
    "                    Ma.append(-1)\n",
    "                if (len(set(x[:i+1]))>1):\n",
    "                    if x[i]==max(x[:i+1]):\n",
    "                            Ma.append(x[i])\n",
    "                    else:\n",
    "                            Ma.append(-1)\n",
    "                i=i+1\n",
    "                Ma=[i for i in Ma if i!=-1]\n",
    "                res=len(set(Ma))\n",
    "        return res\n",
    "\n",
    "    return [mc(Max,f='max'),mc(Min,f='min')]\n",
    "    \n",
    "    # return pd.DataFrame({'scores':scores,'Min':Min,'Max':Max,'Mcmin':mc(Min),'Mcmax':mc(Max,f='max')})\n",
    "    # return [sum(MaxCount),sum(MinCount)]\n",
    "# breakingRecords([10, 5 ,20, 20, 4 ,5, 2, 25, 1]) #2,4\n",
    "breakingRecords(jo)"
   ]
  },
  {
   "cell_type": "code",
   "execution_count": 88,
   "metadata": {},
   "outputs": [],
   "source": [
    "def Input(x):\n",
    "    inp=x.split(';') # inp=what,obj,word\n",
    "    import string\n",
    "    import re\n",
    "    def vari(word,what='S'): # split or combine a method name\n",
    "\n",
    "        \n",
    "        import string\n",
    "        import re\n",
    "        if what=='S':\n",
    "            L=string.ascii_uppercase\n",
    "            l=string.ascii_lowercase\n",
    "            i=0\n",
    "            posit=list()\n",
    "            while i<len(word):\n",
    "                if word[i] in L:\n",
    "                    posit.append(word[:i]) \n",
    "                    break      \n",
    "                i=i+1\n",
    "            name=posit\n",
    "            for j in re.findall('[A-Z][a-z]*',word):\n",
    "                name.append(j.lower())\n",
    "            name=' '.join(name)\n",
    "        if what=='C':\n",
    "            y=word.split(' ')\n",
    "            i=1\n",
    "            name=y[0]\n",
    "            while i<len(y):\n",
    "                name+=y[i].title()\n",
    "                i=i+1\n",
    "        return name\n",
    "    ################\n",
    "    def cla(word,what='S'): # split or combine a method name\n",
    "        import string\n",
    "        import re\n",
    "        if what=='S':\n",
    "            name=re.findall('[A-Z][a-z]*',word)\n",
    "            i=0\n",
    "            while i<len(name):\n",
    "                name[i]=name[i].lower()\n",
    "                i=i+1\n",
    "            name=' '.join(name)\n",
    "        if what=='C':\n",
    "            y=word.split(' ') \n",
    "            i=1\n",
    "            name=y[0].title()\n",
    "            while i<len(y):\n",
    "                try:\n",
    "                    name+=y[i].title()\n",
    "                except:\n",
    "                    pass\n",
    "                i=i+1\n",
    "        return name\n",
    "    ##################\n",
    "    def met(word,what='S'): # split or combine a method name\n",
    "        import string\n",
    "        import re\n",
    "        if what=='S':\n",
    "            L=string.ascii_uppercase\n",
    "            l=string.ascii_lowercase\n",
    "            i=0\n",
    "            posit=list()\n",
    "            while i<len(word):\n",
    "                if word[i] in L:\n",
    "                    posit.append(word[:i]) \n",
    "                    break      \n",
    "                i=i+1\n",
    "            name=posit\n",
    "            for j in re.findall('[A-Z][a-z]*',word):\n",
    "                name.append(j.lower())\n",
    "            name=' '.join(name)\n",
    "        if what=='C':\n",
    "            y=word.split(' ')\n",
    "            i=1\n",
    "            name=y[0]\n",
    "            while i<len(y):\n",
    "                name+=y[i].title()\n",
    "                i=i+1\n",
    "            name=name+'()'\n",
    "            name=''.join(name.splitlines())\n",
    "        return name\n",
    "        \n",
    "        #############\n",
    "    \n",
    "    def output():\n",
    "        if inp[1]=='M':\n",
    "            rout=met(word=inp[2],what=inp[0])\n",
    "        if inp[1]=='C':\n",
    "            rout=cla(word=inp[2],what=inp[0])\n",
    "        if inp[1]=='V':\n",
    "            rout=vari(word=inp[2],what=inp[0])\n",
    "        return rout\n",
    "    return output()\n",
    "##############\n",
    "\n",
    "import re\n",
    "\n",
    "i=0\n",
    "try:\n",
    "    while i>=0:\n",
    "        STDIN=input()\n",
    "        print(str(Input(STDIN)))\n",
    "        i=i+1\n",
    "except:\n",
    "    pass\n"
   ]
  },
  {
   "cell_type": "code",
   "execution_count": 2,
   "metadata": {},
   "outputs": [
    {
     "data": {
      "text/plain": [
       "3"
      ]
     },
     "execution_count": 2,
     "metadata": {},
     "output_type": "execute_result"
    }
   ],
   "source": [
    "def divisibleSumPairs(n, k, ar):\n",
    "    y=0\n",
    "    i=0\n",
    "    while i<n:\n",
    "        j=0\n",
    "        while j<n:\n",
    "            if (i<j) and ((ar[i]+ar[j])%k==0):\n",
    "                y+=1\n",
    "            j=j+1\n",
    "        i=i+1\n",
    "\n",
    "    return y\n",
    "\n",
    "divisibleSumPairs(n=6,k=5,ar=[1,2,3,4,5,6])\n"
   ]
  },
  {
   "cell_type": "code",
   "execution_count": 60,
   "metadata": {},
   "outputs": [
    {
     "data": {
      "text/plain": [
       "[1, 2, 1]"
      ]
     },
     "execution_count": 60,
     "metadata": {},
     "output_type": "execute_result"
    }
   ],
   "source": [
    "def matchingStrings(strings, queries):\n",
    "    x=' '.join(strings)\n",
    "    # y=0\n",
    "    z=list()\n",
    "    i=0\n",
    "    while i<len(queries):\n",
    "        y=0\n",
    "        j=0\n",
    "        while j<len(strings):\n",
    "            if queries[i]==strings[j]:\n",
    "                y+=1\n",
    "            j=j+1\n",
    "        z.append(y)\n",
    "        i=i+1\n",
    "        # y.append(len(re.findall(r'(queries[i])',x)))\n",
    "        # i=i+1\n",
    "    return z\n",
    "\n",
    "strings=['4','bcab','ab','cd','bc','bc']\n",
    "queries=['ab','bc','cd']\n",
    "matchingStrings(strings=strings,queries=queries)"
   ]
  },
  {
   "cell_type": "code",
   "execution_count": 4,
   "metadata": {},
   "outputs": [
    {
     "data": {
      "text/plain": [
       "(3, 3, 1)"
      ]
     },
     "execution_count": 4,
     "metadata": {},
     "output_type": "execute_result"
    }
   ],
   "source": [
    "def longest(x):\n",
    "    import itertools\n",
    "    '''Find the longest substring without repeat'''\n",
    "    jo=list();ja=list()\n",
    "    comb=[i for i in itertools.combinations(range(len(x)),2)]\n",
    "    for j in comb:\n",
    "        jo.append(x[j[0]:j[1]])\n",
    "    ja=[len(i) for i in jo if len(i)==len(set(i))]\n",
    "    return max(ja)\n",
    "\n",
    "longest('abcabcbb'),longest('pwwkcw'),longest('bbb')\n"
   ]
  },
  {
   "cell_type": "code",
   "execution_count": 15,
   "metadata": {},
   "outputs": [
    {
     "data": {
      "text/plain": [
       "(4.0, 4)"
      ]
     },
     "execution_count": 15,
     "metadata": {},
     "output_type": "execute_result"
    }
   ],
   "source": [
    "#Function to calculate median \n",
    "def findMedian(arr):\n",
    "    arr.sort()\n",
    "    n=len(arr)\n",
    "    if n%2==0:\n",
    "        return (arr[int((n/2))-1]+arr[int((n/2)+1)-1])/2\n",
    "    if n%2!=0:\n",
    "        return arr[int((n+1)/2)-1]\n",
    "h=[1,2,3,4,5,4,8]\n",
    "np.median(h),findMedian(h)   # comparing the result of my function with the one of the module numpy"
   ]
  },
  {
   "cell_type": "code",
   "execution_count": 14,
   "metadata": {},
   "outputs": [
    {
     "data": {
      "text/plain": [
       "(4, 4)"
      ]
     },
     "execution_count": 14,
     "metadata": {},
     "output_type": "execute_result"
    }
   ],
   "source": [
    "# Function to calculate mode\n",
    "# The following functions need to be improved\n",
    "import itertools\n",
    "def findMode(arr):\n",
    "    arr.sort()\n",
    "    uniq=list(set(arr))\n",
    "    y=list()\n",
    "    i=0\n",
    "    while i<len(uniq):\n",
    "        z=0\n",
    "        j=0\n",
    "        while j<len(arr):\n",
    "            if uniq[i]==arr[j]:\n",
    "                z+=1\n",
    "            j=j+1\n",
    "        y.append(z)\n",
    "        i=i+1\n",
    "    di=dict(zip(uniq,y))\n",
    "    ma=max(y)\n",
    "    mod=[list(di.keys())[i] for i in range(len(di)) if di[list(di.keys())[i]]==ma ]\n",
    "    return mod[0]\n",
    "hh=[2,3,2,4,5,8,4,6,4,6,7,2,4,6,2,6,4,0,4,7,1,3,5,9,4,7,8,8,2,1,3,1,3,2,8,8,5,5,8,3,8,9,0]\n",
    "lo=findMode(hh)\n",
    "\n",
    "import statistics as stat\n",
    "lo,stat.mode(hh)   # compare the result of my function with the result of the module stat\n"
   ]
  },
  {
   "cell_type": "code",
   "execution_count": 20,
   "metadata": {},
   "outputs": [
    {
     "data": {
      "text/plain": [
       "8"
      ]
     },
     "execution_count": 20,
     "metadata": {},
     "output_type": "execute_result"
    }
   ],
   "source": [
    "# Finding the integer which is not repeated\n",
    "def lonelyinteger(a):\n",
    "    # Write your code here\n",
    "    un=list(set(a))\n",
    "    di={}\n",
    "    i=0\n",
    "    while i<len(un):\n",
    "        y=0\n",
    "        j=0\n",
    "        while j<len(a):\n",
    "            if a[j]==un[i]:\n",
    "                y+=1\n",
    "            j=j+1\n",
    "            di[un[i]]=y\n",
    "        i=i+1\n",
    "    try:\n",
    "        return [list(di.keys())[i] for i in list(range(len(un))) if list(di.values())[i]==1][0]\n",
    "    except:\n",
    "        return None  # if all integers are repeated at least once\n",
    "\n",
    "lonelyinteger([1,2,4,3,8,2,4,1,3])"
   ]
  },
  {
   "cell_type": "code",
   "execution_count": 21,
   "metadata": {},
   "outputs": [
    {
     "data": {
      "text/plain": [
       "[62, 75, 67, 40, 33, None, None, 22, 28, 100, 29]"
      ]
     },
     "execution_count": 21,
     "metadata": {},
     "output_type": "execute_result"
    }
   ],
   "source": [
    "def gradingStudents(grades):\n",
    "    # Write your code here\n",
    "    if grades[0]>=1 or grades[0]<=60:\n",
    "           \n",
    "        def roundg(x):\n",
    "            if x>=0 and x<=100:\n",
    "                multi5=list(range(35,105,5))\n",
    "                if x<38:\n",
    "                    return x\n",
    "                elif x>=38:\n",
    "                    i=0\n",
    "                    while i<len(multi5):\n",
    "                        if (multi5[i]-x)<3 and (multi5[i]-x)>0:\n",
    "                            return multi5[i] \n",
    "                        if(multi5[i]-x)>=3 and (multi5[i]-x)>0:\n",
    "                            return x                                        \n",
    "                        i=i+1\n",
    "            if x==100:\n",
    "                return 100\n",
    "\n",
    "            if x<0 or x>100:\n",
    "                return None   \n",
    "        j=0\n",
    "        z=list()\n",
    "        while j<len(grades):\n",
    "            z.append(roundg(grades[j]))\n",
    "            j=j+1\n",
    "        return z\n",
    "    else:\n",
    "        return None\n",
    "gradingStudents(grades=[62,73,67,38,33, 105,-5,22,28,100,29]) "
   ]
  },
  {
   "cell_type": "code",
   "execution_count": null,
   "metadata": {},
   "outputs": [],
   "source": []
  }
 ],
 "metadata": {
  "kernelspec": {
   "display_name": "Python 3",
   "language": "python",
   "name": "python3"
  },
  "language_info": {
   "codemirror_mode": {
    "name": "ipython",
    "version": 3
   },
   "file_extension": ".py",
   "mimetype": "text/x-python",
   "name": "python",
   "nbconvert_exporter": "python",
   "pygments_lexer": "ipython3",
   "version": "3.9.13"
  },
  "orig_nbformat": 4
 },
 "nbformat": 4,
 "nbformat_minor": 2
}
